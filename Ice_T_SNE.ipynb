{
  "nbformat": 4,
  "nbformat_minor": 0,
  "metadata": {
    "colab": {
      "name": "Ice-T SNE.ipynb",
      "provenance": [],
      "collapsed_sections": [],
      "include_colab_link": true
    },
    "kernelspec": {
      "name": "python3",
      "display_name": "Python 3"
    }
  },
  "cells": [
    {
      "cell_type": "markdown",
      "metadata": {
        "id": "view-in-github",
        "colab_type": "text"
      },
      "source": [
        "<a href=\"https://colab.research.google.com/github/adamwkraft/Ice-T-SNE/blob/master/Ice_T_SNE.ipynb\" target=\"_parent\"><img src=\"https://colab.research.google.com/assets/colab-badge.svg\" alt=\"Open In Colab\"/></a>"
      ]
    },
    {
      "cell_type": "markdown",
      "metadata": {
        "id": "GoVAlt2Xa6It",
        "colab_type": "text"
      },
      "source": [
        "# Ice-T SNE\n",
        "\n",
        "Visualize embedded text from Ice-T's songs and acting lines from SVU.\n",
        "\n",
        "__Ackowledgements / Credit:__\n",
        "Thanks to the following sources:\n",
        "* https://github.com/johnwmillr/LyricsGenius and genius.com\n",
        "* https://github.com/keras-team/keras/blob/master/examples/pretrained_word_embeddings.py\n",
        "* http://www.cruelhaven.org/svu/transcripts/index.html\n",
        "* https://scikit-learn.org/stable/auto_examples/manifold/plot_t_sne_perplexity.html#sphx-glr-auto-examples-manifold-plot-t-sne-perplexity-py"
      ]
    },
    {
      "cell_type": "code",
      "metadata": {
        "id": "SQs0MUNiKrlG",
        "colab_type": "code",
        "colab": {}
      },
      "source": [
        "# Imports\n",
        "\n",
        "import os\n",
        "import sys\n",
        "\n",
        "import matplotlib.pyplot as plt\n",
        "import numpy as np\n",
        "\n",
        "from urllib import request\n",
        "from html.parser import HTMLParser\n",
        "\n",
        "from matplotlib.ticker import NullFormatter\n",
        "from sklearn import manifold, datasets\n",
        "\n",
        "\n",
        "import lyricsgenius\n",
        "\n",
        "from tensorflow import keras\n",
        "from keras.preprocessing.text import Tokenizer\n",
        "from keras.preprocessing.sequence import pad_sequences\n",
        "from keras.layers import Input, Embedding\n",
        "from keras.models import Model\n",
        "from keras.initializers import Constant\n",
        "\n",
        "\n"
      ],
      "execution_count": 0,
      "outputs": []
    },
    {
      "cell_type": "code",
      "metadata": {
        "id": "u0GNqYtukzIA",
        "colab_type": "code",
        "outputId": "8b435f2b-9e1b-4e9f-f338-29fc50c6c3dc",
        "colab": {
          "base_uri": "https://localhost:8080/",
          "height": 1000
        }
      },
      "source": [
        "# Download song lyrics\n",
        "genius = lyricsgenius.Genius(\"my_client_access_token_here\")\n",
        "artist = genius.search_artist(\"Ice-T\", max_songs=100, sort=\"title\")"
      ],
      "execution_count": 0,
      "outputs": [
        {
          "output_type": "stream",
          "text": [
            "Searching for songs by Ice-T...\n",
            "\n",
            "Song 1: \"409\"\n",
            "Song 2: \"6 ‘N the Mornin’\"\n",
            "Song 3: \"99 Problems\"\n",
            "Song 4: \"Addicted to Danger\"\n",
            "Song 5: \"Ain’t a Damn Thing Changed\"\n",
            "Song 6: \"Always Wanted to be a Ho\"\n",
            "Song 7: \"Art Of Rap Freestyle 2\"\n",
            "Song 8: \"Big Gun\"\n",
            "Song 9: \"Bitches 2\"\n",
            "Song 10: \"Black ‘N’ Decker\"\n",
            "Song 11: \"Body Count\"\n",
            "Song 12: \"Body Rock\"\n",
            "Song 13: \"Check Your Game\"\n",
            "Song 14: \"Check Your Heart\"\n",
            "Song 15: \"Chrome plated 357\"\n",
            "Song 16: \"CJ Mac Interlude\"\n",
            "Song 17: \"Code of the streets\"\n",
            "Song 18: \"Cold as Ever\"\n",
            "Song 19: \"Cold Wind Madness (AKA The Coldest Rap, Pt. 2)\"\n",
            "Song 20: \"Colors\"\n",
            "Song 21: \"Common Sense\"\n",
            "Song 22: \"Cramp Your Style\"\n",
            "Song 23: \"Dear Homie\"\n",
            "Song 24: \"Depths of Hell\"\n",
            "Song 25: \"Disorder\"\n",
            "Song 26: \"Dog ‘N’ The Wax\"\n",
            "Song 27: \"Don’t Hate the Playa\"\n",
            "Song 28: \"Drama\"\n",
            "Song 29: \"Ed\"\n",
            "Song 30: \"Escape from the Killing Fields\"\n",
            "Song 31: \"Evil E: What About Sex?\"\n",
            "Song 32: \"Exodus\"\n",
            "Song 33: \"Eye of the Storm\"\n",
            "Song 34: \"First Impression\"\n",
            "Song 35: \"Fly By\"\n",
            "Song 36: \"Forced to Do Dirt\"\n",
            "Song 37: \"Freedom of Speech\"\n",
            "Song 38: \"Freestyle/Zip-lock\"\n",
            "Song 39: \"Fried Chicken\"\n",
            "Song 40: \"Fuck It\"\n",
            "Song 41: \"Funky Gripsta\"\n",
            "Song 42: \"Gangsta Rap\"\n",
            "Song 43: \"Get Your Moneyman\"\n",
            "Song 44: \"Girls L.G.B.N.A.F.\"\n",
            "Song 45: \"God Forgive Me\"\n",
            "Song 46: \"Gotta Lotta Love\"\n",
            "Song 47: \"Grand Larceny\"\n",
            "Song 48: \"G Style\"\n",
            "Song 49: \"Hardcore\"\n",
            "Song 50: \"Haters\"\n",
            "Song 51: \"Heartbeat\"\n",
            "Song 52: \"High Rollers\"\n",
            "Song 53: \"Hit the Deck\"\n",
            "Song 54: \"Hit the Fan\"\n",
            "Song 55: \"Home Invasion\"\n",
            "Song 56: \"Home of the Bodybag\"\n",
            "Song 57: \"How Does it Feel\"\n",
            "Song 58: \"I Ain’t New Ta This\"\n",
            "Song 59: \"I Ain’t New To This\"\n",
            "Song 60: \"Ice-a-Mix\"\n",
            "Song 61: \"Iceapella\"\n",
            "Song 62: \"Ice M.F. T\"\n",
            "Song 63: \"Ice-O-Tek\"\n",
            "\"Ice-T 2nd Amendment Skit\" is not valid. Skipping.\n",
            "Song 64: \"I Love Ladies\"\n",
            "Song 65: \"I Must Stand\"\n",
            "Song 66: \"I’m Your Pusher\"\n",
            "Song 67: \"I’m Your Pusher/Pusherman\"\n",
            "Song 68: \"Inside of a Gangsta\"\n",
            "Song 69: \"Intro\"\n",
            "Song 70: \"Intro (Power Album)\"\n",
            "Song 71: \"Intro (Rhyme Pays)\"\n",
            "Song 72: \"It’s Goin’ Down\"\n",
            "Song 73: \"It’s On\"\n",
            "Song 74: \"Killers\"\n",
            "Song 75: \"Lethal Weapon\"\n",
            "Song 76: \"Lifestyles of the Rich and Infamous\"\n",
            "Song 77: \"Make it Funky\"\n",
            "Song 78: \"Make It Funky (12\" Mix)\"\n",
            "Song 79: \"Make The Loot Loop\"\n",
            "Song 80: \"Message to the Soldier\"\n",
            "Song 81: \"Mic Contract\"\n",
            "Song 82: \"Midnight\"\n",
            "Song 83: \"Mind Over Matter\"\n",
            "Song 84: \"Money, Power, Woman\"\n",
            "Song 85: \"Money, Power & Women\"\n",
            "Song 86: \"M.V.P.S\"\n",
            "Song 87: \"My Baby\"\n",
            "Song 88: \"My Word Is Bond\"\n",
            "Song 89: \"New Jack Hustler\"\n",
            "Song 90: \"New Jack Hustler (Nino’s Theme)\"\n",
            "Song 91: \"New Life\"\n",
            "Song 92: \"NY, NY\"\n",
            "Song 93: \"O.G. Original Gangster\"\n",
            "Song 94: \"Our Most Requested Record [Long Version]\"\n",
            "Song 95: \"Outro\"\n",
            "Song 96: \"Pain\"\n",
            "Song 97: \"Peel Their Caps Back\"\n",
            "Song 98: \"Personal\"\n",
            "Song 99: \"Pimp Anthem\"\n",
            "Song 100: \"Pimp Behind the Wheels\"\n",
            "\n",
            "Reached user-specified song limit (100).\n",
            "Done. Found 100 songs.\n"
          ],
          "name": "stdout"
        }
      ]
    },
    {
      "cell_type": "code",
      "metadata": {
        "id": "8-c9OMXzePsa",
        "colab_type": "code",
        "colab": {}
      },
      "source": [
        "# Save song lyrics\n",
        "song_lyrics = []\n",
        "num_songs =  len(artist.songs)\n",
        "for song in artist.songs:\n",
        "  song_fname = '{}.txt'.format(song.title).replace('/', '_')\n",
        "  with open(song_fname, 'w') as f:\n",
        "    f.write(song.lyrics)"
      ],
      "execution_count": 0,
      "outputs": []
    },
    {
      "cell_type": "code",
      "metadata": {
        "id": "9rOj6oGffknI",
        "colab_type": "code",
        "colab": {}
      },
      "source": [
        "# Collect SVU Lines\n",
        "url_name_tups = [\n",
        "    ('http://www.cruelhaven.org/svu/transcripts/loss.html', 'Fin'),\n",
        "    ('http://www.cruelhaven.org/svu/transcripts/serendipity.html', 'Det. Odafin Tutuola'),\n",
        "    ('http://www.cruelhaven.org/svu/transcripts/sick.html', 'Det. Odafin Tutuola'),\n",
        "    ('http://www.cruelhaven.org/svu/transcripts/poison.html', 'Det. Odafin Tutuola')\n",
        "]\n",
        "\n",
        "\n",
        "class SVUScriptParser(HTMLParser):\n",
        "  \n",
        "  def __init__(self, name):\n",
        "    super(SVUScriptParser, self).__init__()\n",
        "    self._name = name\n",
        "    self._got_ice_t = False\n",
        "    self._cur_line = ''\n",
        "    self.lines = []\n",
        "  \n",
        "  def handle_data(self, data):\n",
        "    if not self._got_ice_t and data == self._name:\n",
        "      self._got_ice_t = True\n",
        "    elif self._got_ice_t:\n",
        "      self._cur_line += data\n",
        "      if re.match('^.*\\\\\\\\n\\\\\\\\n', data):\n",
        "        self.lines.append(re.sub('\\\\\\\\n', '', self._cur_line))\n",
        "        self._cur_line = ''\n",
        "        self._got_ice_t = False\n",
        "\n",
        "  \n",
        "\n",
        "def get_lines(url, name):\n",
        "  # Get lines for an SVU URL and name of Ice-T's character name\n",
        "  parser = SVUScriptParser(name)\n",
        "  with request.urlopen(url) as f:\n",
        "    script_html = str(f.read())\n",
        "  parser.feed(script_html)\n",
        "  return parser.lines\n",
        "\n",
        "svu_lines = [get_lines(url, name) for url, name in url_name_tups]\n",
        "all_svu_lines = sum(svu_lines, [])"
      ],
      "execution_count": 0,
      "outputs": []
    },
    {
      "cell_type": "code",
      "metadata": {
        "id": "ORSizG-eIMel",
        "colab_type": "code",
        "outputId": "062f78c7-c6ad-4cfb-e020-2740273cdb5c",
        "colab": {
          "base_uri": "https://localhost:8080/",
          "height": 36
        }
      },
      "source": [
        "# Prep Data\n",
        "songs = [s.lyrics for s in artist.songs]\n",
        "songs_words = [len(s.lyrics) for s in artist.songs]\n",
        "num_songs = len(songs)\n",
        "num_script_lines = len(all_svu_lines)\n",
        "script_line_words = [len(l) for l in all_svu_lines]\n",
        "\n",
        "texts = songs + all_svu_lines\n",
        "tokenizer = Tokenizer(num_words=MAX_NUM_WORDS)\n",
        "tokenizer.fit_on_texts(texts)\n",
        "word_index = tokenizer.word_index\n",
        "print('Found %s unique tokens.' % len(word_index))"
      ],
      "execution_count": 0,
      "outputs": [
        {
          "output_type": "stream",
          "text": [
            "Found 6109 unique tokens.\n"
          ],
          "name": "stdout"
        }
      ]
    },
    {
      "cell_type": "code",
      "metadata": {
        "id": "9T8-8qJxGNXy",
        "colab_type": "code",
        "colab": {}
      },
      "source": [
        "# Download embedding file\n",
        "!curl -v -o glove.6B.zip http://downloads.cs.stanford.edu/nlp/data/glove.6B.zip"
      ],
      "execution_count": 0,
      "outputs": []
    },
    {
      "cell_type": "code",
      "metadata": {
        "id": "cy4-TLJpGSbT",
        "colab_type": "code",
        "colab": {}
      },
      "source": [
        "# Unzip embedding file\n",
        "!unzip glove.6B.zip"
      ],
      "execution_count": 0,
      "outputs": []
    },
    {
      "cell_type": "code",
      "metadata": {
        "id": "DFz8rX3vHuh1",
        "colab_type": "code",
        "colab": {}
      },
      "source": [
        "# Create embedding matrix\n",
        "embeddings_index = {}\n",
        "with open('glove.6B.100d.txt') as f:\n",
        "  for line in f:\n",
        "    word, coefs = line.split(maxsplit=1)\n",
        "    coefs = np.fromstring(coefs, 'f', sep=' ')\n",
        "    embeddings_index[word] = coefs"
      ],
      "execution_count": 0,
      "outputs": []
    },
    {
      "cell_type": "code",
      "metadata": {
        "id": "zUssvvBGH8YU",
        "colab_type": "code",
        "colab": {}
      },
      "source": [
        "# prepare embedding matrix\n",
        "num_words = min(MAX_NUM_WORDS, len(word_index) + 1)\n",
        "embedding_matrix = np.zeros((num_words, EMBEDDING_DIM))\n",
        "for word, i in word_index.items():\n",
        "    if i >= MAX_NUM_WORDS:\n",
        "        continue\n",
        "    embedding_vector = embeddings_index.get(word)\n",
        "    if embedding_vector is not None:\n",
        "        # words not found in embedding index will be all-zeros.\n",
        "        embedding_matrix[i] = embedding_vector"
      ],
      "execution_count": 0,
      "outputs": []
    },
    {
      "cell_type": "code",
      "metadata": {
        "id": "vuaR2JXrfkcI",
        "colab_type": "code",
        "colab": {}
      },
      "source": [
        "MAX_SEQUENCE_LENGTH = max([len(s.lyrics) for s in artist.songs])\n",
        "MAX_NUM_WORDS = 20000\n",
        "EMBEDDING_DIM = 100"
      ],
      "execution_count": 0,
      "outputs": []
    },
    {
      "cell_type": "code",
      "metadata": {
        "id": "ve8rr3bEfkYp",
        "colab_type": "code",
        "colab": {}
      },
      "source": [
        "# load pre-trained word embeddings into an Embedding layer\n",
        "# note that we set trainable = False so as to keep the embeddings fixed\n",
        "embedding_layer = Embedding(MAX_NUM_WORDS,\n",
        "                            EMBEDDING_DIM,\n",
        "#                             embeddings_initializer=keras.initializers.RandomNormal(mean=0.0, stddev=0.05, seed=None),\n",
        "                            embeddings_initializer=Constant(embedding_matrix),\n",
        "                            input_length=MAX_SEQUENCE_LENGTH,\n",
        "                            trainable=False)\n",
        "sequence_input = Input(shape=(MAX_SEQUENCE_LENGTH,), dtype='int32')\n",
        "embedded_sequences = embedding_layer(sequence_input)\n",
        "model = Model(sequence_input, embedded_sequences)\n"
      ],
      "execution_count": 0,
      "outputs": []
    },
    {
      "cell_type": "code",
      "metadata": {
        "id": "FwC5n736fkVP",
        "colab_type": "code",
        "outputId": "e3d9476f-bca0-452a-d0ea-5d1823434215",
        "colab": {
          "base_uri": "https://localhost:8080/",
          "height": 36
        }
      },
      "source": [
        "# Embed texts\n",
        "sequences = tokenizer.texts_to_sequences(texts)\n",
        "data_input = pad_sequences(sequences, maxlen=MAX_SEQUENCE_LENGTH)\n",
        "embedded_texts = model.predict(data_input)\n",
        "print(embedded_texts.shape)"
      ],
      "execution_count": 0,
      "outputs": [
        {
          "output_type": "stream",
          "text": [
            "(195, 8274, 100)\n"
          ],
          "name": "stdout"
        }
      ]
    },
    {
      "cell_type": "code",
      "metadata": {
        "id": "QnQ7Q_Z_JUUn",
        "colab_type": "code",
        "outputId": "dea6f102-9e76-416d-bb00-d9d59d5a3da3",
        "colab": {
          "base_uri": "https://localhost:8080/",
          "height": 36
        }
      },
      "source": [
        "mask = np.ones_like(embedded_texts)\n",
        "for i, num_words in enumerate(songs_words + script_line_words):\n",
        "  mask[i, :-num_words, :] = 0\n",
        "X = embedded_texts * mask\n",
        "X = np.mean(X, axis=1)\n",
        "print(X.shape)"
      ],
      "execution_count": 0,
      "outputs": [
        {
          "output_type": "stream",
          "text": [
            "(195, 100)\n"
          ],
          "name": "stdout"
        }
      ]
    },
    {
      "cell_type": "code",
      "metadata": {
        "id": "UPeQHqASJUPI",
        "colab_type": "code",
        "outputId": "0dbf731b-c2b0-4818-b266-16f5885f7e3a",
        "colab": {
          "base_uri": "https://localhost:8080/",
          "height": 287
        }
      },
      "source": [
        "tsne = manifold.TSNE(n_components=2, init='random',\n",
        "                     random_state=0, perplexity=10)\n",
        "Y = tsne.fit_transform(X)\n",
        "\n",
        "# Plot\n",
        "_, ax = plt.subplots(1, 1, figsize=(7, 4))\n",
        "ax.set_title('Ice-T SNE')\n",
        "ax.scatter(Y[:num_songs, 0], Y[:num_songs, 1], c=\"#F1C40F\")\n",
        "ax.scatter(Y[num_songs:, 0], Y[num_songs:, 1], c=\"#16A085\")\n",
        "ax.xaxis.set_major_formatter(NullFormatter())\n",
        "ax.yaxis.set_major_formatter(NullFormatter())\n",
        "ax.legend(['Song Lyrics', 'Acting Lines (SVU)'])"
      ],
      "execution_count": 0,
      "outputs": [
        {
          "output_type": "execute_result",
          "data": {
            "text/plain": [
              "<matplotlib.legend.Legend at 0x7f32e5efc9e8>"
            ]
          },
          "metadata": {
            "tags": []
          },
          "execution_count": 347
        },
        {
          "output_type": "display_data",
          "data": {
            "image/png": "[encoded data removed]",
            "text/plain": [
              "<Figure size 504x288 with 1 Axes>"
            ]
          },
          "metadata": {
            "tags": []
          }
        }
      ]
    },
    {
      "cell_type": "code",
      "metadata": {
        "id": "-bZBdU3OJUKk",
        "colab_type": "code",
        "colab": {}
      },
      "source": [
        ""
      ],
      "execution_count": 0,
      "outputs": []
    }
  ]
}